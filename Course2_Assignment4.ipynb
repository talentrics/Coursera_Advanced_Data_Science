{
    "nbformat_minor": 1, 
    "cells": [
        {
            "source": "This is the last assignment for the Coursera course \"Advanced Machine Learning and Signal Processing\"\n\nJust execute all cells one after the other and you are done - just note that in the last one you should update your email address (the one you've used for coursera) and obtain a submission token, you get this from the programming assignment directly on coursera.\n\nPlease fill in the sections labelled with \"###YOUR_CODE_GOES_HERE###\"\n\nThe purpose of this assignment is to learn how feature engineering boosts model performance. You will apply Discrete Fourier Transformation on the accelerometer sensor time series and therefore transforming the dataset from the time to the frequency domain. \n\nAfter that, you\u2019ll use a classification algorithm of your choice to create a model and submit the new predictions to the grader. Done.\n\nPlease make sure you run this notebook from an Apache Spark 2.3 notebook.\n\nSo the first thing we need to ensure is that we are on the latest version of SystemML, which is 1.3.0 (as of 20th March'19) Please use the code block below to check if you are already on 1.3.0 or higher. 1.3 contains a necessary fix, that's we are running against the SNAPSHOT\n", 
            "cell_type": "markdown", 
            "metadata": {}
        }, 
        {
            "source": "from systemml import MLContext\nml = MLContext(spark)\nml.version()", 
            "cell_type": "code", 
            "metadata": {}, 
            "outputs": [
                {
                    "output_type": "stream", 
                    "name": "stdout", 
                    "text": "Waiting for a Spark session to start...\nSpark Initialization Done! ApplicationId = app-20190501073057-0001\nKERNEL_ID = 4bfc2877-fd7a-4329-a88c-e69d5db7cc38\n"
                }, 
                {
                    "output_type": "execute_result", 
                    "data": {
                        "text/plain": "'1.3.0-SNAPSHOT'"
                    }, 
                    "execution_count": 1, 
                    "metadata": {}
                }
            ], 
            "execution_count": 1
        }, 
        {
            "source": "\n\nIf you are blow version 1.3.0, or you got the error message \"No module named 'systemml'\"  please execute the next two code blocks and then\n\n# PLEASE RESTART THE KERNEL !!!\n\nOtherwise your changes won't take effect, just double-check every time you run this notebook if you are on SystemML 1.3\n", 
            "cell_type": "markdown", 
            "metadata": {}
        }, 
        {
            "source": "!pip install https://github.com/IBM/coursera/blob/master/systemml-1.3.0-SNAPSHOT-python.tar.gz?raw=true", 
            "cell_type": "code", 
            "metadata": {}, 
            "outputs": [
                {
                    "output_type": "stream", 
                    "name": "stdout", 
                    "text": "Collecting https://github.com/IBM/coursera/blob/master/systemml-1.3.0-SNAPSHOT-python.tar.gz?raw=true\n  Using cached https://github.com/IBM/coursera/blob/master/systemml-1.3.0-SNAPSHOT-python.tar.gz?raw=true\nCollecting numpy>=1.8.2 (from systemml==1.3.0)\n  Using cached https://files.pythonhosted.org/packages/f6/f3/cc6c6745347c1e997cc3e58390584a250b8e22b6dfc45414a7d69a3df016/numpy-1.16.3-cp35-cp35m-manylinux1_x86_64.whl\nCollecting scipy>=0.15.1 (from systemml==1.3.0)\n  Using cached https://files.pythonhosted.org/packages/f0/30/526bee2ce18c066f9ff13ba89603f6c2b96c9fd406b57a21a7ba14bf5679/scipy-1.2.1-cp35-cp35m-manylinux1_x86_64.whl\nCollecting pandas (from systemml==1.3.0)\n  Using cached https://files.pythonhosted.org/packages/74/24/0cdbf8907e1e3bc5a8da03345c23cbed7044330bb8f73bb12e711a640a00/pandas-0.24.2-cp35-cp35m-manylinux1_x86_64.whl\nCollecting scikit-learn (from systemml==1.3.0)\n  Using cached https://files.pythonhosted.org/packages/38/7f/7d21bd89a97603a14d3770ca912d4402c394a8e50642f9b8b5cc6867a61a/scikit_learn-0.20.3-cp35-cp35m-manylinux1_x86_64.whl\nCollecting Pillow>=2.0.0 (from systemml==1.3.0)\n  Using cached https://files.pythonhosted.org/packages/de/62/6358ccd27b9e340affaa29e3e678b5d93a4b17f6bd7533fd6e6e87930b12/Pillow-6.0.0-cp35-cp35m-manylinux1_x86_64.whl\nCollecting pytz>=2011k (from pandas->systemml==1.3.0)\n  Using cached https://files.pythonhosted.org/packages/3d/73/fe30c2daaaa0713420d0382b16fbb761409f532c56bdcc514bf7b6262bb6/pytz-2019.1-py2.py3-none-any.whl\nCollecting python-dateutil>=2.5.0 (from pandas->systemml==1.3.0)\n  Using cached https://files.pythonhosted.org/packages/41/17/c62faccbfbd163c7f57f3844689e3a78bae1f403648a6afb1d0866d87fbb/python_dateutil-2.8.0-py2.py3-none-any.whl\nCollecting six>=1.5 (from python-dateutil>=2.5.0->pandas->systemml==1.3.0)\n  Using cached https://files.pythonhosted.org/packages/73/fb/00a976f728d0d1fecfe898238ce23f502a721c0ac0ecfedb80e0d88c64e9/six-1.12.0-py2.py3-none-any.whl\nBuilding wheels for collected packages: systemml\n  Running setup.py bdist_wheel for systemml ... \u001b[?25ldone\n\u001b[?25h  Stored in directory: /home/spark/shared/.cache/pip/wheels/aa/bf/28/4344dd13abd8b9b6cbd4032baf4b851873d2e2288a65631fd2\nSuccessfully built systemml\n\u001b[31mtensorflow 1.3.0 requires tensorflow-tensorboard<0.2.0,>=0.1.0, which is not installed.\u001b[0m\n\u001b[31mpyspark 2.3.0 requires py4j==0.10.6, which is not installed.\u001b[0m\nInstalling collected packages: numpy, scipy, pytz, six, python-dateutil, pandas, scikit-learn, Pillow, systemml\nSuccessfully installed Pillow-6.0.0 numpy-1.16.3 pandas-0.24.2 python-dateutil-2.8.0 pytz-2019.1 scikit-learn-0.20.3 scipy-1.2.1 six-1.12.0 systemml-1.3.0\n\u001b[33mTarget directory /home/spark/shared/user-libs/python3/dateutil already exists. Specify --upgrade to force replacement.\u001b[0m\n\u001b[33mTarget directory /home/spark/shared/user-libs/python3/six-1.12.0.dist-info already exists. Specify --upgrade to force replacement.\u001b[0m\n\u001b[33mTarget directory /home/spark/shared/user-libs/python3/sklearn already exists. Specify --upgrade to force replacement.\u001b[0m\n\u001b[33mTarget directory /home/spark/shared/user-libs/python3/pandas already exists. Specify --upgrade to force replacement.\u001b[0m\n\u001b[33mTarget directory /home/spark/shared/user-libs/python3/six.py already exists. Specify --upgrade to force replacement.\u001b[0m\n\u001b[33mTarget directory /home/spark/shared/user-libs/python3/systemml-1.3.0.dist-info already exists. Specify --upgrade to force replacement.\u001b[0m\n\u001b[33mTarget directory /home/spark/shared/user-libs/python3/pytz-2019.1.dist-info already exists. Specify --upgrade to force replacement.\u001b[0m\n\u001b[33mTarget directory /home/spark/shared/user-libs/python3/numpy already exists. Specify --upgrade to force replacement.\u001b[0m\n\u001b[33mTarget directory /home/spark/shared/user-libs/python3/pytz already exists. Specify --upgrade to force replacement.\u001b[0m\n\u001b[33mTarget directory /home/spark/shared/user-libs/python3/pandas-0.24.2.dist-info already exists. Specify --upgrade to force replacement.\u001b[0m\n\u001b[33mTarget directory /home/spark/shared/user-libs/python3/python_dateutil-2.8.0.dist-info already exists. Specify --upgrade to force replacement.\u001b[0m\n\u001b[33mTarget directory /home/spark/shared/user-libs/python3/scikit_learn-0.20.3.dist-info already exists. Specify --upgrade to force replacement.\u001b[0m\n\u001b[33mTarget directory /home/spark/shared/user-libs/python3/scipy already exists. Specify --upgrade to force replacement.\u001b[0m\n\u001b[33mTarget directory /home/spark/shared/user-libs/python3/__pycache__ already exists. Specify --upgrade to force replacement.\u001b[0m\n"
                }
            ], 
            "execution_count": 6
        }, 
        {
            "source": "\n\nNow we need to create two sym links that the newest version is picket up - this is a workaround and will be removed as soon as SystemML 1.3 will be pre-installed on Watson Studio once officially released.\n", 
            "cell_type": "markdown", 
            "metadata": {}
        }, 
        {
            "source": "!ln -s -f ~/user-libs/python3/systemml/systemml-java/systemml-1.3.0-SNAPSHOT-extra.jar ~/user-libs/spark2/systemml-1.3.0-SNAPSHOT-extra.jar\n!ln -s -f ~/user-libs/python3/systemml/systemml-java/systemml-1.3.0-SNAPSHOT.jar ~/user-libs/spark2/systemml-1.3.0-SNAPSHOT.jar", 
            "cell_type": "code", 
            "metadata": {}, 
            "outputs": [], 
            "execution_count": 7
        }, 
        {
            "source": "# Please now restart the kernel and start from the beginning to make sure you've installed SystemML 1.3\n\nLet's download the test data since it's so small we don't use COS (IBM Cloud Object Store) here", 
            "cell_type": "markdown", 
            "metadata": {}
        }, 
        {
            "source": "!wget https://github.com/IBM/coursera/blob/master/coursera_ml/shake.parquet?raw=true\n!mv shake.parquet?raw=true shake.parquet", 
            "cell_type": "code", 
            "metadata": {}, 
            "outputs": [
                {
                    "output_type": "stream", 
                    "name": "stdout", 
                    "text": "--2019-05-01 07:31:20--  https://github.com/IBM/coursera/blob/master/coursera_ml/shake.parquet?raw=true\nResolving github.com (github.com)... 192.30.253.112, 192.30.253.113\nConnecting to github.com (github.com)|192.30.253.112|:443... connected.\nHTTP request sent, awaiting response... 302 Found\nLocation: https://github.com/IBM/coursera/raw/master/coursera_ml/shake.parquet [following]\n--2019-05-01 07:31:20--  https://github.com/IBM/coursera/raw/master/coursera_ml/shake.parquet\nReusing existing connection to github.com:443.\nHTTP request sent, awaiting response... 302 Found\nLocation: https://raw.githubusercontent.com/IBM/coursera/master/coursera_ml/shake.parquet [following]\n--2019-05-01 07:31:20--  https://raw.githubusercontent.com/IBM/coursera/master/coursera_ml/shake.parquet\nResolving raw.githubusercontent.com (raw.githubusercontent.com)... 151.101.48.133\nConnecting to raw.githubusercontent.com (raw.githubusercontent.com)|151.101.48.133|:443... connected.\nHTTP request sent, awaiting response... 200 OK\nLength: 74727 (73K) [application/octet-stream]\nSaving to: 'shake.parquet?raw=true'\n\nshake.parquet?raw=t 100%[===================>]  72.98K  --.-KB/s    in 0.002s  \n\n2019-05-01 07:31:20 (46.4 MB/s) - 'shake.parquet?raw=true' saved [74727/74727]\n\n"
                }
            ], 
            "execution_count": 2
        }, 
        {
            "source": "Now it\u2019s time to read the sensor data and create a temporary query table.", 
            "cell_type": "markdown", 
            "metadata": {}
        }, 
        {
            "source": "df=spark.read.parquet('shake.parquet')", 
            "cell_type": "code", 
            "metadata": {}, 
            "outputs": [], 
            "execution_count": 3
        }, 
        {
            "source": "df.show()", 
            "cell_type": "code", 
            "metadata": {}, 
            "outputs": [
                {
                    "output_type": "stream", 
                    "name": "stdout", 
                    "text": "+-----+---------+-----+-----+-----+\n|CLASS| SENSORID|    X|    Y|    Z|\n+-----+---------+-----+-----+-----+\n|    2| qqqqqqqq| 0.12| 0.12| 0.12|\n|    2|aUniqueID| 0.03| 0.03| 0.03|\n|    2| qqqqqqqq|-3.84|-3.84|-3.84|\n|    2| 12345678| -0.1| -0.1| -0.1|\n|    2| 12345678|-0.15|-0.15|-0.15|\n|    2| 12345678| 0.47| 0.47| 0.47|\n|    2| 12345678|-0.06|-0.06|-0.06|\n|    2| 12345678|-0.09|-0.09|-0.09|\n|    2| 12345678| 0.21| 0.21| 0.21|\n|    2| 12345678|-0.08|-0.08|-0.08|\n|    2| 12345678| 0.44| 0.44| 0.44|\n|    2|    gholi| 0.76| 0.76| 0.76|\n|    2|    gholi| 1.62| 1.62| 1.62|\n|    2|    gholi| 5.81| 5.81| 5.81|\n|    2| bcbcbcbc| 0.58| 0.58| 0.58|\n|    2| bcbcbcbc|-8.24|-8.24|-8.24|\n|    2| bcbcbcbc|-0.45|-0.45|-0.45|\n|    2| bcbcbcbc| 1.03| 1.03| 1.03|\n|    2|aUniqueID|-0.05|-0.05|-0.05|\n|    2| qqqqqqqq|-0.44|-0.44|-0.44|\n+-----+---------+-----+-----+-----+\nonly showing top 20 rows\n\n"
                }
            ], 
            "execution_count": 4
        }, 
        {
            "source": "!pip install pixiedust", 
            "cell_type": "code", 
            "metadata": {}, 
            "outputs": [
                {
                    "output_type": "stream", 
                    "name": "stdout", 
                    "text": "Collecting pixiedust\nCollecting astunparse (from pixiedust)\n  Using cached https://files.pythonhosted.org/packages/2e/37/5dd0dd89b87bb5f0f32a7e775458412c52d78f230ab8d0c65df6aabc4479/astunparse-1.6.2-py2.py3-none-any.whl\nCollecting mpld3 (from pixiedust)\nCollecting markdown (from pixiedust)\n  Using cached https://files.pythonhosted.org/packages/f5/e4/d8c18f2555add57ff21bf25af36d827145896a07607486cc79a2aea641af/Markdown-3.1-py2.py3-none-any.whl\nCollecting requests (from pixiedust)\n  Using cached https://files.pythonhosted.org/packages/7d/e3/20f3d364d6c8e5d2353c72a67778eb189176f08e873c9900e10c0287b84b/requests-2.21.0-py2.py3-none-any.whl\nCollecting lxml (from pixiedust)\n  Using cached https://files.pythonhosted.org/packages/5d/c9/39689d56ccb58e8212ca3c9ef68246bb481040cbd4d602295488ed13019b/lxml-4.3.3-cp35-cp35m-manylinux1_x86_64.whl\nCollecting colour (from pixiedust)\n  Using cached https://files.pythonhosted.org/packages/74/46/e81907704ab203206769dee1385dc77e1407576ff8f50a0681d0a6b541be/colour-0.1.5-py2.py3-none-any.whl\nCollecting geojson (from pixiedust)\n  Using cached https://files.pythonhosted.org/packages/f1/34/bc3a65faabce27a7faa755ab08d811207a4fc438f77ef09c229fc022d778/geojson-2.4.1-py2.py3-none-any.whl\nCollecting six<2.0,>=1.6.1 (from astunparse->pixiedust)\n  Using cached https://files.pythonhosted.org/packages/73/fb/00a976f728d0d1fecfe898238ce23f502a721c0ac0ecfedb80e0d88c64e9/six-1.12.0-py2.py3-none-any.whl\nCollecting wheel<1.0,>=0.23.0 (from astunparse->pixiedust)\n  Using cached https://files.pythonhosted.org/packages/96/ba/a4702cbb6a3a485239fbe9525443446203f00771af9ac000fa3ef2788201/wheel-0.33.1-py2.py3-none-any.whl\nCollecting setuptools>=36 (from markdown->pixiedust)\n  Using cached https://files.pythonhosted.org/packages/ec/51/f45cea425fd5cb0b0380f5b0f048ebc1da5b417e48d304838c02d6288a1e/setuptools-41.0.1-py2.py3-none-any.whl\nCollecting idna<2.9,>=2.5 (from requests->pixiedust)\n  Using cached https://files.pythonhosted.org/packages/14/2c/cd551d81dbe15200be1cf41cd03869a46fe7226e7450af7a6545bfc474c9/idna-2.8-py2.py3-none-any.whl\nCollecting urllib3<1.25,>=1.21.1 (from requests->pixiedust)\n  Using cached https://files.pythonhosted.org/packages/df/1c/59cca3abf96f991f2ec3131a4ffe72ae3d9ea1f5894abe8a9c5e3c77cfee/urllib3-1.24.2-py2.py3-none-any.whl\nCollecting certifi>=2017.4.17 (from requests->pixiedust)\n  Using cached https://files.pythonhosted.org/packages/60/75/f692a584e85b7eaba0e03827b3d51f45f571c2e793dd731e598828d380aa/certifi-2019.3.9-py2.py3-none-any.whl\nCollecting chardet<3.1.0,>=3.0.2 (from requests->pixiedust)\n  Using cached https://files.pythonhosted.org/packages/bc/a9/01ffebfb562e4274b6487b4bb1ddec7ca55ec7510b22e4c51f14098443b8/chardet-3.0.4-py2.py3-none-any.whl\n\u001b[31mtensorflow 1.3.0 requires tensorflow-tensorboard<0.2.0,>=0.1.0, which is not installed.\u001b[0m\n\u001b[31mpyspark 2.3.0 requires py4j==0.10.6, which is not installed.\u001b[0m\nInstalling collected packages: six, wheel, astunparse, mpld3, setuptools, markdown, idna, urllib3, certifi, chardet, requests, lxml, colour, geojson, pixiedust\nSuccessfully installed astunparse-1.6.2 certifi-2019.3.9 chardet-3.0.4 colour-0.1.5 geojson-2.4.1 idna-2.8 lxml-4.3.3 markdown-3.1 mpld3-0.3 pixiedust-1.1.15 requests-2.21.0 setuptools-41.0.1 six-1.12.0 urllib3-1.24.2 wheel-0.33.1\n\u001b[33mTarget directory /home/spark/shared/user-libs/python3/setuptools-41.0.1.dist-info already exists. Specify --upgrade to force replacement.\u001b[0m\n\u001b[33mTarget directory /home/spark/shared/user-libs/python3/astunparse already exists. Specify --upgrade to force replacement.\u001b[0m\n\u001b[33mTarget directory /home/spark/shared/user-libs/python3/six-1.12.0.dist-info already exists. Specify --upgrade to force replacement.\u001b[0m\n\u001b[33mTarget directory /home/spark/shared/user-libs/python3/easy_install.py already exists. Specify --upgrade to force replacement.\u001b[0m\n\u001b[33mTarget directory /home/spark/shared/user-libs/python3/colour-0.1.5.dist-info already exists. Specify --upgrade to force replacement.\u001b[0m\n\u001b[33mTarget directory /home/spark/shared/user-libs/python3/six.py already exists. Specify --upgrade to force replacement.\u001b[0m\n\u001b[33mTarget directory /home/spark/shared/user-libs/python3/mpld3 already exists. Specify --upgrade to force replacement.\u001b[0m\n\u001b[33mTarget directory /home/spark/shared/user-libs/python3/certifi already exists. Specify --upgrade to force replacement.\u001b[0m\n\u001b[33mTarget directory /home/spark/shared/user-libs/python3/geojson-2.4.1.dist-info already exists. Specify --upgrade to force replacement.\u001b[0m\n\u001b[33mTarget directory /home/spark/shared/user-libs/python3/certifi-2019.3.9.dist-info already exists. Specify --upgrade to force replacement.\u001b[0m\n\u001b[33mTarget directory /home/spark/shared/user-libs/python3/geojson already exists. Specify --upgrade to force replacement.\u001b[0m\n\u001b[33mTarget directory /home/spark/shared/user-libs/python3/idna already exists. Specify --upgrade to force replacement.\u001b[0m\n\u001b[33mTarget directory /home/spark/shared/user-libs/python3/requests-2.21.0.dist-info already exists. Specify --upgrade to force replacement.\u001b[0m\n\u001b[33mTarget directory /home/spark/shared/user-libs/python3/requests already exists. Specify --upgrade to force replacement.\u001b[0m\n\u001b[33mTarget directory /home/spark/shared/user-libs/python3/lxml already exists. Specify --upgrade to force replacement.\u001b[0m\n\u001b[33mTarget directory /home/spark/shared/user-libs/python3/wheel already exists. Specify --upgrade to force replacement.\u001b[0m\n\u001b[33mTarget directory /home/spark/shared/user-libs/python3/mpld3-0.3.dist-info already exists. Specify --upgrade to force replacement.\u001b[0m\n\u001b[33mTarget directory /home/spark/shared/user-libs/python3/pixiedust already exists. Specify --upgrade to force replacement.\u001b[0m\n\u001b[33mTarget directory /home/spark/shared/user-libs/python3/.DS_Store already exists. Specify --upgrade to force replacement.\u001b[0m\n\u001b[33mTarget directory /home/spark/shared/user-libs/python3/wheel-0.33.1.dist-info already exists. Specify --upgrade to force replacement.\u001b[0m\n\u001b[33mTarget directory /home/spark/shared/user-libs/python3/lxml-4.3.3.dist-info already exists. Specify --upgrade to force replacement.\u001b[0m\n\u001b[33mTarget directory /home/spark/shared/user-libs/python3/idna-2.8.dist-info already exists. Specify --upgrade to force replacement.\u001b[0m\n\u001b[33mTarget directory /home/spark/shared/user-libs/python3/__pycache__ already exists. Specify --upgrade to force replacement.\u001b[0m\n\u001b[33mTarget directory /home/spark/shared/user-libs/python3/astunparse-1.6.2.dist-info already exists. Specify --upgrade to force replacement.\u001b[0m\n\u001b[33mTarget directory /home/spark/shared/user-libs/python3/Markdown-3.1.dist-info already exists. Specify --upgrade to force replacement.\u001b[0m\n\u001b[33mTarget directory /home/spark/shared/user-libs/python3/chardet-3.0.4.dist-info already exists. Specify --upgrade to force replacement.\u001b[0m\n\u001b[33mTarget directory /home/spark/shared/user-libs/python3/chardet already exists. Specify --upgrade to force replacement.\u001b[0m\n\u001b[33mTarget directory /home/spark/shared/user-libs/python3/pkg_resources already exists. Specify --upgrade to force replacement.\u001b[0m\n\u001b[33mTarget directory /home/spark/shared/user-libs/python3/setuptools already exists. Specify --upgrade to force replacement.\u001b[0m\n\u001b[33mTarget directory /home/spark/shared/user-libs/python3/markdown already exists. Specify --upgrade to force replacement.\u001b[0m\n\u001b[33mTarget directory /home/spark/shared/user-libs/python3/pixiedust-1.1.15.dist-info already exists. Specify --upgrade to force replacement.\u001b[0m\n\u001b[33mTarget directory /home/spark/shared/user-libs/python3/colour.py already exists. Specify --upgrade to force replacement.\u001b[0m\n\u001b[33mTarget directory /home/spark/shared/user-libs/python3/urllib3-1.24.2.dist-info already exists. Specify --upgrade to force replacement.\u001b[0m\n\u001b[33mTarget directory /home/spark/shared/user-libs/python3/install already exists. Specify --upgrade to force replacement.\u001b[0m\n\u001b[33mTarget directory /home/spark/shared/user-libs/python3/urllib3 already exists. Specify --upgrade to force replacement.\u001b[0m\n\u001b[33mTarget directory /home/spark/shared/user-libs/python3/bin already exists. Specify --upgrade to force replacement.\u001b[0m\n"
                }
            ], 
            "execution_count": 5
        }, 
        {
            "source": "import pixiedust\ndisplay(df)", 
            "cell_type": "code", 
            "metadata": {
                "pixiedust": {
                    "displayParams": {
                        "handlerId": "barChart", 
                        "valueFields": "X", 
                        "keyFields": "CLASS", 
                        "aggregation": "COUNT"
                    }
                }
            }, 
            "outputs": [
                {
                    "output_type": "display_data", 
                    "data": {
                        "text/html": "<style type=\"text/css\">.pd_warning{display:none;}</style><div class=\"pd_warning\"><em>Hey, there's something awesome here! To see it, open this notebook outside GitHub, in a viewer like Jupyter</em></div>\n        <div class=\"pd_save is-viewer-good\" style=\"padding-right:10px;text-align: center;line-height:initial !important;font-size: xx-large;font-weight: 500;color: coral;\">\n            \n        </div>\n    <div id=\"chartFigured0ce1331\" class=\"pd_save is-viewer-good\" style=\"overflow-x:auto\">\n            \n                    \n                            <center><img style=\"max-width:initial !important\" src=\"data:image/png;base64,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\" class=\"pd_save\"></center>\n                        \n                    \n                \n        </div>", 
                        "text/plain": "<IPython.core.display.HTML object>"
                    }, 
                    "metadata": {}
                }
            ], 
            "execution_count": 6
        }, 
        {
            "source": "df.createOrReplaceTempView(\"df\")", 
            "cell_type": "code", 
            "metadata": {}, 
            "outputs": [], 
            "execution_count": 7
        }, 
        {
            "source": "We\u2019ll use Apache SystemML to implement Discrete Fourier Transformation. This way all computation continues to happen on the Apache Spark cluster for advanced scalability and performance.", 
            "cell_type": "markdown", 
            "metadata": {}
        }, 
        {
            "source": "from systemml import MLContext, dml\nml = MLContext(spark)", 
            "cell_type": "code", 
            "metadata": {}, 
            "outputs": [], 
            "execution_count": 8
        }, 
        {
            "source": "As you\u2019ve learned from the lecture, implementing Discrete Fourier Transformation in a linear algebra programming language is simple. Apache SystemML DML is such a language and as you can see the implementation is straightforward and doesn\u2019t differ too much from the mathematical definition (Just note that the sum operator has been swapped with a vector dot product using the %*% syntax borrowed from R\n):\n\n<img style=\"float: left;\" src=\"https://wikimedia.org/api/rest_v1/media/math/render/svg/1af0a78dc50bbf118ab6bd4c4dcc3c4ff8502223\">\n\n", 
            "cell_type": "markdown", 
            "metadata": {}
        }, 
        {
            "source": "dml_script = '''\nPI = 3.141592654\nN = nrow(signal)\n\nn = seq(0, N-1, 1)\nk = seq(0, N-1, 1)\n\nM = (n %*% t(k))*(2*PI/N)\n\nXa = cos(M) %*% signal\nXb = sin(M) %*% signal\n\nDFT = cbind(Xa, Xb)\n'''", 
            "cell_type": "code", 
            "metadata": {}, 
            "outputs": [], 
            "execution_count": 9
        }, 
        {
            "source": "Now it\u2019s time to create a function which takes a single row Apache Spark data frame as argument (the one containing the accelerometer measurement time series for one axis) and returns the Fourier transformation of it. In addition, we are adding an index column for later joining all axis together and renaming the columns to appropriate names. The result of this function is an Apache Spark DataFrame containing the Fourier Transformation of its input in two columns. \n", 
            "cell_type": "markdown", 
            "metadata": {}
        }, 
        {
            "source": "from pyspark.sql.functions import monotonically_increasing_id\n\ndef dft_systemml(signal,name):\n    prog = dml(dml_script).input('signal', signal).output('DFT')\n    \n    return (\n\n    #execute the script inside the SystemML engine running on top of Apache Spark\n    ml.execute(prog) \n     \n         #read result from SystemML execution back as SystemML Matrix\n        .get('DFT') \n     \n         #convert SystemML Matrix to ApacheSpark DataFrame \n        .toDF() \n     \n         #rename default column names\n        .selectExpr('C1 as %sa' % (name), 'C2 as %sb' % (name)) \n     \n         #add unique ID per row for later joining\n        .withColumn(\"id\", monotonically_increasing_id())\n    )\n        \n\n\n", 
            "cell_type": "code", 
            "metadata": {}, 
            "outputs": [], 
            "execution_count": 10
        }, 
        {
            "source": "Now it\u2019s time to create DataFrames containing for each accelerometer sensor axis and one for each class. This means you\u2019ll get 6 DataFrames. Please implement this using the relational API of DataFrames or SparkSQL.\n", 
            "cell_type": "markdown", 
            "metadata": {}
        }, 
        {
            "source": "x0 = spark.sql(\"SELECT X from df where class = 0\")\ny0 = spark.sql(\"SELECT Y from df where class = 0\")\nz0 = spark.sql(\"SELECT Z from df where class = 0\")\nx1 = spark.sql(\"SELECT X from df where class = 1\")\ny1 = spark.sql(\"SELECT Y from df where class = 1\")\nz1 = spark.sql(\"SELECT Z from df where class = 1\")", 
            "cell_type": "code", 
            "metadata": {}, 
            "outputs": [], 
            "execution_count": 12
        }, 
        {
            "source": "Since we\u2019ve created this cool DFT function before, we can just call it for each of the 6 DataFrames now. And since the result of this function call is a DataFrame again we can use the pyspark best practice in simply calling methods on it sequentially. So what we are doing is the following:\n\n- Calling DFT for each class and accelerometer sensor axis.\n- Joining them together on the ID column. \n- Re-adding a column containing the class index.\n- Stacking both Dataframes for each classes together\n\n", 
            "cell_type": "markdown", 
            "metadata": {}
        }, 
        {
            "source": "from pyspark.sql.functions import lit\n\ndf_class_0 = dft_systemml(x0,'x') \\\n    .join(dft_systemml(y0,'y'), on=['id'], how='inner') \\\n    .join(dft_systemml(z0,'z'), on=['id'], how='inner') \\\n    .withColumn('class', lit(0))\n    \ndf_class_1 = dft_systemml(x1,'x') \\\n    .join(dft_systemml(y1,'y'), on=['id'], how='inner') \\\n    .join(dft_systemml(z1,'z'), on=['id'], how='inner') \\\n    .withColumn('class', lit(1))\n\ndf_dft = df_class_0.union(df_class_1)\n\ndf_dft.show()", 
            "cell_type": "code", 
            "metadata": {}, 
            "outputs": [
                {
                    "output_type": "stream", 
                    "name": "stdout", 
                    "text": "SystemML Statistics:\nTotal execution time:\t\t0.013 sec.\nNumber of executed Spark inst:\t0.\n\n\nSystemML Statistics:\nTotal execution time:\t\t0.000 sec.\nNumber of executed Spark inst:\t0.\n\n\nSystemML Statistics:\nTotal execution time:\t\t0.000 sec.\nNumber of executed Spark inst:\t0.\n\n\nSystemML Statistics:\nTotal execution time:\t\t0.405 sec.\nNumber of executed Spark inst:\t0.\n\n\nSystemML Statistics:\nTotal execution time:\t\t0.120 sec.\nNumber of executed Spark inst:\t0.\n\n\nSystemML Statistics:\nTotal execution time:\t\t0.124 sec.\nNumber of executed Spark inst:\t0.\n\n\n+----------+--------------------+--------------------+--------------------+--------------------+--------------------+--------------------+-----+\n|        id|                  xa|                  xb|                  ya|                  yb|                  za|                  zb|class|\n+----------+--------------------+--------------------+--------------------+--------------------+--------------------+--------------------+-----+\n|8589934592|                 0.0|                 0.0|                 0.0|                 0.0|                 0.0|                 0.0|    0|\n|         0|                 0.0|                 0.0|                 0.0|                 0.0|                 0.0|                 0.0|    0|\n|8589934596|                 0.0|                 0.0|                 0.0|                 0.0|                 0.0|                 0.0|    0|\n|8589934598|                 0.0|                 0.0|                 0.0|                 0.0|                 0.0|                 0.0|    0|\n|8589934593|                 0.0|                 0.0|                 0.0|                 0.0|                 0.0|                 0.0|    0|\n|         6|                 0.0|                 0.0|                 0.0|                 0.0|                 0.0|                 0.0|    0|\n|         5|                 0.0|                 0.0|                 0.0|                 0.0|                 0.0|                 0.0|    0|\n|         1|                 0.0|                 0.0|                 0.0|                 0.0|                 0.0|                 0.0|    0|\n|         3|                 0.0|                 0.0|                 0.0|                 0.0|                 0.0|                 0.0|    0|\n|8589934594|                 0.0|                 0.0|                 0.0|                 0.0|                 0.0|                 0.0|    0|\n|8589934595|                 0.0|                 0.0|                 0.0|                 0.0|                 0.0|                 0.0|    0|\n|         2|                 0.0|                 0.0|                 0.0|                 0.0|                 0.0|                 0.0|    0|\n|         4|                 0.0|                 0.0|                 0.0|                 0.0|                 0.0|                 0.0|    0|\n|8589934597|                 0.0|                 0.0|                 0.0|                 0.0|                 0.0|                 0.0|    0|\n|        26|0.007432298669951747|-0.00394663166701...|0.007432298669951747|-0.00394663166701...|0.007432298669951747|-0.00394663166701...|    1|\n|        29| 0.02589077158423112|-0.02414578651495463| 0.02589077158423112|-0.02414578651495463| 0.02589077158423112|-0.02414578651495463|    1|\n|8589934592| 0.02589077121123453|0.024145789283483897| 0.02589077121123453|0.024145789283483897| 0.02589077121123453|0.024145789283483897|    1|\n|        19|-0.08486126908675795| -0.0218913608396156|-0.08486126908675795| -0.0218913608396156|-0.08486126908675795| -0.0218913608396156|    1|\n|        54| 0.02941472472264519| 0.08753524593777502| 0.02941472472264519| 0.08753524593777502| 0.02941472472264519| 0.08753524593777502|    1|\n|         0|-0.00305531695825...|0.013615410059352576|-0.00305531695825...|0.013615410059352576|-0.00305531695825...|0.013615410059352576|    1|\n+----------+--------------------+--------------------+--------------------+--------------------+--------------------+--------------------+-----+\nonly showing top 20 rows\n\n"
                }
            ], 
            "execution_count": 13
        }, 
        {
            "source": "Please create a VectorAssembler which consumes the newly created DFT columns and produces a column \u201cfeatures\u201d\n", 
            "cell_type": "markdown", 
            "metadata": {}
        }, 
        {
            "source": "from pyspark.ml.feature import VectorAssembler", 
            "cell_type": "code", 
            "metadata": {}, 
            "outputs": [], 
            "execution_count": 14
        }, 
        {
            "source": "vectorAssembler = VectorAssembler(\n    inputCols=[\"xa\", \"xb\", \"ya\", \"yb\", \"za\", \"zb\"],\n    outputCol=\"features\")", 
            "cell_type": "code", 
            "metadata": {}, 
            "outputs": [], 
            "execution_count": 15
        }, 
        {
            "source": "Please insatiate a classifier from the SparkML package and assign it to the classifier variable. Make sure to set the \u201cclass\u201d column as target.\n", 
            "cell_type": "markdown", 
            "metadata": {}
        }, 
        {
            "source": "from pyspark.ml.classification import RandomForestClassifier", 
            "cell_type": "code", 
            "metadata": {}, 
            "outputs": [], 
            "execution_count": 16
        }, 
        {
            "source": "classifier = RandomForestClassifier(labelCol=\"class\", featuresCol=\"features\", numTrees=10)", 
            "cell_type": "code", 
            "metadata": {}, 
            "outputs": [], 
            "execution_count": 17
        }, 
        {
            "source": "Let\u2019s train and evaluate\u2026\n", 
            "cell_type": "markdown", 
            "metadata": {}
        }, 
        {
            "source": "from pyspark.ml import Pipeline\npipeline = Pipeline(stages=[vectorAssembler, classifier])", 
            "cell_type": "code", 
            "metadata": {}, 
            "outputs": [], 
            "execution_count": 18
        }, 
        {
            "source": "model = pipeline.fit(df_dft)", 
            "cell_type": "code", 
            "metadata": {}, 
            "outputs": [], 
            "execution_count": 19
        }, 
        {
            "source": "prediction = model.transform(df_dft)", 
            "cell_type": "code", 
            "metadata": {}, 
            "outputs": [], 
            "execution_count": 20
        }, 
        {
            "source": "prediction.show()", 
            "cell_type": "code", 
            "metadata": {}, 
            "outputs": [
                {
                    "output_type": "stream", 
                    "name": "stdout", 
                    "text": "+----------+--------------------+--------------------+--------------------+--------------------+--------------------+--------------------+-----+--------------------+-------------+-----------+----------+\n|        id|                  xa|                  xb|                  ya|                  yb|                  za|                  zb|class|            features|rawPrediction|probability|prediction|\n+----------+--------------------+--------------------+--------------------+--------------------+--------------------+--------------------+-----+--------------------+-------------+-----------+----------+\n|8589934592|                 0.0|                 0.0|                 0.0|                 0.0|                 0.0|                 0.0|    0|           (6,[],[])|   [10.0,0.0]|  [1.0,0.0]|       0.0|\n|         0|                 0.0|                 0.0|                 0.0|                 0.0|                 0.0|                 0.0|    0|           (6,[],[])|   [10.0,0.0]|  [1.0,0.0]|       0.0|\n|8589934596|                 0.0|                 0.0|                 0.0|                 0.0|                 0.0|                 0.0|    0|           (6,[],[])|   [10.0,0.0]|  [1.0,0.0]|       0.0|\n|8589934598|                 0.0|                 0.0|                 0.0|                 0.0|                 0.0|                 0.0|    0|           (6,[],[])|   [10.0,0.0]|  [1.0,0.0]|       0.0|\n|8589934593|                 0.0|                 0.0|                 0.0|                 0.0|                 0.0|                 0.0|    0|           (6,[],[])|   [10.0,0.0]|  [1.0,0.0]|       0.0|\n|         6|                 0.0|                 0.0|                 0.0|                 0.0|                 0.0|                 0.0|    0|           (6,[],[])|   [10.0,0.0]|  [1.0,0.0]|       0.0|\n|         5|                 0.0|                 0.0|                 0.0|                 0.0|                 0.0|                 0.0|    0|           (6,[],[])|   [10.0,0.0]|  [1.0,0.0]|       0.0|\n|         1|                 0.0|                 0.0|                 0.0|                 0.0|                 0.0|                 0.0|    0|           (6,[],[])|   [10.0,0.0]|  [1.0,0.0]|       0.0|\n|         3|                 0.0|                 0.0|                 0.0|                 0.0|                 0.0|                 0.0|    0|           (6,[],[])|   [10.0,0.0]|  [1.0,0.0]|       0.0|\n|8589934594|                 0.0|                 0.0|                 0.0|                 0.0|                 0.0|                 0.0|    0|           (6,[],[])|   [10.0,0.0]|  [1.0,0.0]|       0.0|\n|8589934595|                 0.0|                 0.0|                 0.0|                 0.0|                 0.0|                 0.0|    0|           (6,[],[])|   [10.0,0.0]|  [1.0,0.0]|       0.0|\n|         2|                 0.0|                 0.0|                 0.0|                 0.0|                 0.0|                 0.0|    0|           (6,[],[])|   [10.0,0.0]|  [1.0,0.0]|       0.0|\n|         4|                 0.0|                 0.0|                 0.0|                 0.0|                 0.0|                 0.0|    0|           (6,[],[])|   [10.0,0.0]|  [1.0,0.0]|       0.0|\n|8589934597|                 0.0|                 0.0|                 0.0|                 0.0|                 0.0|                 0.0|    0|           (6,[],[])|   [10.0,0.0]|  [1.0,0.0]|       0.0|\n|        26|0.007432298669951747|-0.00394663166701...|0.007432298669951747|-0.00394663166701...|0.007432298669951747|-0.00394663166701...|    1|[0.00743229866995...|   [0.0,10.0]|  [0.0,1.0]|       1.0|\n|        29| 0.02589077158423112|-0.02414578651495463| 0.02589077158423112|-0.02414578651495463| 0.02589077158423112|-0.02414578651495463|    1|[0.02589077158423...|   [0.0,10.0]|  [0.0,1.0]|       1.0|\n|8589934592| 0.02589077121123453|0.024145789283483897| 0.02589077121123453|0.024145789283483897| 0.02589077121123453|0.024145789283483897|    1|[0.02589077121123...|   [0.0,10.0]|  [0.0,1.0]|       1.0|\n|        19|-0.08486126908675795| -0.0218913608396156|-0.08486126908675795| -0.0218913608396156|-0.08486126908675795| -0.0218913608396156|    1|[-0.0848612690867...|   [0.0,10.0]|  [0.0,1.0]|       1.0|\n|        54| 0.02941472472264519| 0.08753524593777502| 0.02941472472264519| 0.08753524593777502| 0.02941472472264519| 0.08753524593777502|    1|[0.02941472472264...|   [0.0,10.0]|  [0.0,1.0]|       1.0|\n|         0|-0.00305531695825...|0.013615410059352576|-0.00305531695825...|0.013615410059352576|-0.00305531695825...|0.013615410059352576|    1|[-0.0030553169582...|   [0.0,10.0]|  [0.0,1.0]|       1.0|\n+----------+--------------------+--------------------+--------------------+--------------------+--------------------+--------------------+-----+--------------------+-------------+-----------+----------+\nonly showing top 20 rows\n\n"
                }
            ], 
            "execution_count": 21
        }, 
        {
            "source": "from pyspark.ml.evaluation import MulticlassClassificationEvaluator\nbinEval = MulticlassClassificationEvaluator().setMetricName(\"accuracy\") .setPredictionCol(\"prediction\").setLabelCol(\"class\")\n    \nbinEval.evaluate(prediction) ", 
            "cell_type": "code", 
            "metadata": {}, 
            "outputs": [
                {
                    "output_type": "execute_result", 
                    "data": {
                        "text/plain": "1.0"
                    }, 
                    "execution_count": 22, 
                    "metadata": {}
                }
            ], 
            "execution_count": 22
        }, 
        {
            "source": "If you are happy with the result (I\u2019m happy with > 0.8) please submit your solution to the grader by executing the following cells, please don\u2019t forget to obtain an assignment submission token (secret) from the Courera\u2019s graders web page and paste it to the \u201csecret\u201d variable below, including your email address you\u2019ve used for Coursera. \n", 
            "cell_type": "markdown", 
            "metadata": {}
        }, 
        {
            "source": "!rm -Rf a2_m4.json", 
            "cell_type": "code", 
            "metadata": {}, 
            "outputs": [], 
            "execution_count": 23
        }, 
        {
            "source": "prediction = prediction.repartition(1)\nprediction.write.json('a2_m4.json')", 
            "cell_type": "code", 
            "metadata": {}, 
            "outputs": [], 
            "execution_count": 24
        }, 
        {
            "source": "!rm -f rklib.py\n!wget wget https://raw.githubusercontent.com/IBM/coursera/master/rklib.py", 
            "cell_type": "code", 
            "metadata": {}, 
            "outputs": [
                {
                    "output_type": "stream", 
                    "name": "stdout", 
                    "text": "--2019-05-01 07:36:19--  http://wget/\nResolving wget (wget)... failed: Name or service not known.\nwget: unable to resolve host address 'wget'\n--2019-05-01 07:36:19--  https://raw.githubusercontent.com/IBM/coursera/master/rklib.py\nResolving raw.githubusercontent.com (raw.githubusercontent.com)... 151.101.48.133\nConnecting to raw.githubusercontent.com (raw.githubusercontent.com)|151.101.48.133|:443... connected.\nHTTP request sent, awaiting response... 200 OK\nLength: 2540 (2.5K) [text/plain]\nSaving to: 'rklib.py'\n\nrklib.py            100%[===================>]   2.48K  --.-KB/s    in 0s      \n\n2019-05-01 07:36:19 (55.0 MB/s) - 'rklib.py' saved [2540/2540]\n\nFINISHED --2019-05-01 07:36:19--\nTotal wall clock time: 0.2s\nDownloaded: 1 files, 2.5K in 0s (55.0 MB/s)\n"
                }
            ], 
            "execution_count": 25
        }, 
        {
            "source": "from rklib import zipit\nzipit('a2_m4.json.zip','a2_m4.json')", 
            "cell_type": "code", 
            "metadata": {}, 
            "outputs": [], 
            "execution_count": 26
        }, 
        {
            "source": "!base64 a2_m4.json.zip > a2_m4.json.zip.base64", 
            "cell_type": "code", 
            "metadata": {}, 
            "outputs": [], 
            "execution_count": 27
        }, 
        {
            "source": "from rklib import submit\nkey = \"-fBiYHYDEeiR4QqiFhAvkA\"\npart = \"IjtJk\"\nemail = \"danielm@ae.ibm.com\"\nsubmission_token = \"G51WoB50tHlRMoLO\"\n\nwith open('a2_m4.json.zip.base64', 'r') as myfile:\n    data=myfile.read()\nsubmit(email, submission_token, key, part, [part], data)", 
            "cell_type": "code", 
            "metadata": {}, 
            "outputs": [
                {
                    "output_type": "stream", 
                    "name": "stdout", 
                    "text": "Submission successful, please check on the coursera grader page for the status\n-------------------------\n{\"elements\":[{\"itemId\":\"B8wXV\",\"id\":\"f_F-qCtuEei_fRLwaVDk3g~B8wXV~8q3es2vjEem8sBL4ewZ8Gg\",\"courseId\":\"f_F-qCtuEei_fRLwaVDk3g\"}],\"paging\":{},\"linked\":{}}\n-------------------------\n"
                }
            ], 
            "execution_count": 28
        }, 
        {
            "source": "", 
            "cell_type": "code", 
            "metadata": {}, 
            "outputs": [], 
            "execution_count": null
        }
    ], 
    "metadata": {
        "kernelspec": {
            "display_name": "Python 3.5 with Spark", 
            "name": "python3", 
            "language": "python3"
        }, 
        "language_info": {
            "mimetype": "text/x-python", 
            "nbconvert_exporter": "python", 
            "version": "3.5.4", 
            "name": "python", 
            "file_extension": ".py", 
            "pygments_lexer": "ipython3", 
            "codemirror_mode": {
                "version": 3, 
                "name": "ipython"
            }
        }
    }, 
    "nbformat": 4
}